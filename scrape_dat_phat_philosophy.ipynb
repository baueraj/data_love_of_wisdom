{
 "cells": [
  {
   "cell_type": "code",
   "execution_count": 102,
   "metadata": {},
   "outputs": [],
   "source": [
    "from bs4 import BeautifulSoup\n",
    "import requests\n",
    "import time\n",
    "import random"
   ]
  },
  {
   "cell_type": "markdown",
   "metadata": {},
   "source": [
    "## Truth"
   ]
  },
  {
   "cell_type": "code",
   "execution_count": 131,
   "metadata": {},
   "outputs": [],
   "source": [
    "domain_name = 'truth'\n",
    "\n",
    "idea_ids_desired = [id.strip() for id in open(f'./idea_ids_{domain_name}.txt')]\n",
    "invalid_idea_ids = []"
   ]
  },
  {
   "cell_type": "code",
   "execution_count": 123,
   "metadata": {},
   "outputs": [],
   "source": [
    "for idx, id in enumerate(idea_ids_desired[:15]):\n",
    "    URL = f'http://philosophyideas.com/search/idea_detail.asp?find=theme&themenumber=2015&visit=1&return=yes&ID={id}&gistsfor=theme&theme_alpha=yes&ThemeNumber=&area=&source=single&area_no='\n",
    "    r = requests.get(URL)\n",
    "    \n",
    "    soup = BeautifulSoup(r.content, 'html5lib') \n",
    "    table = soup.find('div', attrs = {'class': 'txt'})\n",
    "    \n",
    "    headers = table.find_all_next('p', attrs = {'class': 'para2'})\n",
    "    \n",
    "    if len(headers) == 0:\n",
    "        invalid_idea_ids.append(id)\n",
    "        continue\n",
    "        \n",
    "    headers = [header.get_text().strip() for header in headers]\n",
    "    gist_idx = headers.index('Gist of Idea')\n",
    "    datums = table.find_all_next('p', attrs = {'class': 'text'})\n",
    "    \n",
    "    gotcha = {}\n",
    "    gotcha['gist'] = datums[gist_idx].get_text().strip()\n",
    "    \n",
    "    ideas.append(gotcha)\n",
    "    \n",
    "    if idx != len(ideas) - 1:\n",
    "        sleepy_time = random.randrange(3)\n",
    "        time.sleep(sleepy_time)"
   ]
  },
  {
   "cell_type": "code",
   "execution_count": 128,
   "metadata": {},
   "outputs": [
    {
     "data": {
      "text/plain": [
       "[{'gist': 'Truth is a matter of asserting correct combinations and separations'},\n",
       " {'gist': 'Simple and essential truth seems to be given, with further truth arising in thinking'},\n",
       " {'gist': 'Truth is either intuiting a way of being, or a putting together'},\n",
       " {'gist': 'The concept of truth was originated by the senses'},\n",
       " {'gist': 'There cannot be more than one truth'},\n",
       " {'gist': 'Anselm of Canterbury identified truth with God'},\n",
       " {'gist': 'Types of lying: Speak lies, intend lies, intend deception, aim at deceptive goal?'},\n",
       " {'gist': 'Truth is its own standard'},\n",
       " {'gist': 'The predicate is in the subject of a true proposition'},\n",
       " {'gist': 'Truth consists of having the same idea about something that God has'},\n",
       " {'gist': 'Truth is a property of a belief, but dependent on its external relations, not its internal qualities'},\n",
       " {'gist': 'For Heidegger there is \\'ontic\\' truth or \\'uncoveredness\\', as in \"he is a true friend\"'},\n",
       " {'gist': \"Truth is a relation between a representation ('bearer') and part of the world ('truthmaker')\"},\n",
       " {'gist': \"'The rug is green' might be warrantedly assertible even though the rug is not green\"},\n",
       " {'gist': \"Putnam's epistemic notion of truth replaces the realism of correspondence with ontological relativism\"}]"
      ]
     },
     "execution_count": 128,
     "metadata": {},
     "output_type": "execute_result"
    }
   ],
   "source": [
    "ideas"
   ]
  },
  {
   "cell_type": "code",
   "execution_count": 129,
   "metadata": {},
   "outputs": [
    {
     "data": {
      "text/plain": [
       "15"
      ]
     },
     "execution_count": 129,
     "metadata": {},
     "output_type": "execute_result"
    }
   ],
   "source": [
    "len(ideas)"
   ]
  },
  {
   "cell_type": "code",
   "execution_count": 132,
   "metadata": {},
   "outputs": [
    {
     "data": {
      "text/plain": [
       "[]"
      ]
     },
     "execution_count": 132,
     "metadata": {},
     "output_type": "execute_result"
    }
   ],
   "source": [
    "invalid_idea_ids"
   ]
  }
 ],
 "metadata": {
  "kernelspec": {
   "display_name": "Python 3",
   "language": "python",
   "name": "python3"
  },
  "language_info": {
   "codemirror_mode": {
    "name": "ipython",
    "version": 3
   },
   "file_extension": ".py",
   "mimetype": "text/x-python",
   "name": "python",
   "nbconvert_exporter": "python",
   "pygments_lexer": "ipython3",
   "version": "3.6.3"
  }
 },
 "nbformat": 4,
 "nbformat_minor": 2
}
