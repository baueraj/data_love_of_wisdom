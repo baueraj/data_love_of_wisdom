{
 "cells": [
  {
   "cell_type": "code",
   "execution_count": 15,
   "metadata": {},
   "outputs": [],
   "source": [
    "%reload_ext autoreload\n",
    "%autoreload 2\n",
    "\n",
    "from bs4 import BeautifulSoup\n",
    "import requests\n",
    "import time\n",
    "import random\n",
    "import pickle as pkl\n",
    "from funcs_proxy import *\n",
    "from funcs_scrape_pdf import *\n",
    "import pprint\n",
    "pp = pprint.PrettyPrinter()"
   ]
  },
  {
   "cell_type": "markdown",
   "metadata": {},
   "source": [
    "## Proxy info"
   ]
  },
  {
   "cell_type": "code",
   "execution_count": 2,
   "metadata": {},
   "outputs": [],
   "source": [
    "url_proxy = 'https://free-proxy-list.net/'\n",
    "timeout = 20\n",
    "proxies_n = 15\n",
    "proxies = get_proxies(url_proxy, proxies_n)"
   ]
  },
  {
   "cell_type": "code",
   "execution_count": 4,
   "metadata": {},
   "outputs": [],
   "source": [
    "# proxies\n",
    "# response = requests.get(url_proxy, proxies={\"http\": proxies[2], \"https\": proxies[2]}) #, timeout=timeout"
   ]
  },
  {
   "cell_type": "markdown",
   "metadata": {},
   "source": [
    "## List of philosophical domains"
   ]
  },
  {
   "cell_type": "code",
   "execution_count": 3,
   "metadata": {},
   "outputs": [
    {
     "name": "stdout",
     "output_type": "stream",
     "text": [
      "['1. Philosophy',\n",
      " '2. Reason',\n",
      " '3. Truth',\n",
      " '4. Formal Logic',\n",
      " '5. Theory of Logic',\n",
      " '6. Mathematics',\n",
      " '7. Existence',\n",
      " '8. Modes of Existence',\n",
      " '9. Objects',\n",
      " '10. Modality',\n",
      " '11. Knowledge Aims',\n",
      " '12. Knowledge Sources',\n",
      " '13. Knowledge Criteria',\n",
      " '14. Science',\n",
      " '15. Nature of Minds',\n",
      " '16. Persons',\n",
      " '17. Mind and Body',\n",
      " '18. Thought',\n",
      " '19. Language',\n",
      " '20. Action',\n",
      " '21. Aesthetics',\n",
      " '22. Metaethics',\n",
      " '23. Ethics',\n",
      " '24. Applied Ethics',\n",
      " '25. Society',\n",
      " '26. Natural Theory',\n",
      " '27. Natural Reality',\n",
      " '28. God',\n",
      " '29. Religion']\n"
     ]
    }
   ],
   "source": [
    "url_domains = 'http://philosophyideas.com/search/themes.asp'\n",
    "domains = get_philosophical_domains(url_domains)\n",
    "pp.pprint(domains)"
   ]
  },
  {
   "cell_type": "markdown",
   "metadata": {},
   "source": [
    "## Get philosophical domain ideas\n",
    "***Domain strings match an element in domains list printed above***"
   ]
  },
  {
   "cell_type": "code",
   "execution_count": 13,
   "metadata": {},
   "outputs": [],
   "source": [
    "domain = '14. Science'\n",
    "idea_ids_desired = [id.strip() for id in open(f\"./idea_ids_{domain.replace(' ', '_')}.txt\", 'r')]\n",
    "ideas = []\n",
    "invalid_idea_ids = []"
   ]
  },
  {
   "cell_type": "code",
   "execution_count": 14,
   "metadata": {},
   "outputs": [
    {
     "name": "stdout",
     "output_type": "stream",
     "text": [
      "0\n",
      "10\n",
      "20\n",
      "30\n",
      "40\n",
      "50\n",
      "60\n",
      "70\n",
      "80\n",
      "90\n",
      "100\n",
      "110\n",
      "120\n",
      "130\n",
      "140\n",
      "150\n",
      "160\n",
      "170\n",
      "180\n",
      "190\n",
      "200\n",
      "210\n",
      "220\n",
      "230\n",
      "240\n",
      "250\n",
      "260\n",
      "270\n",
      "280\n",
      "290\n",
      "300\n",
      "310\n",
      "320\n",
      "330\n",
      "340\n",
      "350\n",
      "360\n",
      "370\n",
      "380\n",
      "390\n",
      "400\n",
      "410\n",
      "420\n",
      "430\n",
      "440\n",
      "450\n",
      "460\n",
      "470\n",
      "480\n",
      "490\n",
      "500\n",
      "510\n",
      "520\n",
      "530\n",
      "540\n",
      "550\n",
      "560\n",
      "570\n",
      "580\n",
      "590\n",
      "600\n",
      "610\n",
      "620\n",
      "630\n",
      "640\n",
      "650\n"
     ]
    }
   ],
   "source": [
    "for idx, id in enumerate(idea_ids_desired):\n",
    "    \n",
    "    url_phil = f'http://philosophyideas.com/search/idea_detail.asp?find=theme&themenumber=2015&visit=1&return=yes&ID={id}&gistsfor=theme&theme_alpha=yes&ThemeNumber=&area=&source=single&area_no='\n",
    "    \n",
    "    r = requests.get(url_phil)\n",
    "#     if idx < 5:\n",
    "#         r = requests.get(url_phil)\n",
    "#     elif idx % 50 == 0:\n",
    "#         proxy = get_proxy(url_proxy, proxies, timeout)\n",
    "#         r = requests.get(url_phil, proxies=proxy)\n",
    "#         print(proxy)\n",
    "#     else:\n",
    "#         r = requests.get(url_phil, proxies=proxy)\n",
    "    \n",
    "    soup = BeautifulSoup(r.content, 'lxml') \n",
    "    table = soup.find('div', attrs = {'class': 'txt'})\n",
    "    \n",
    "    headers = table.find_all_next('p', attrs = {'class': 'para2'})\n",
    "    \n",
    "    if len(headers) == 0:\n",
    "        invalid_idea_ids.append(id)\n",
    "        print(id)\n",
    "        continue\n",
    "        \n",
    "    headers = [header.get_text().strip() for header in headers]\n",
    "    gist_idx = headers.index('Gist of Idea')\n",
    "    full_idea_idx = headers.index('Full Idea')\n",
    "    source_idx = headers.index('Source')\n",
    "    \n",
    "    datums = table.find_all_next('p', attrs = {'class': 'text'})\n",
    "    \n",
    "    gotcha = {}\n",
    "    gotcha['gist'] = datums[gist_idx].get_text().strip()\n",
    "    gotcha['full_idea'] = datums[full_idea_idx].get_text().strip()\n",
    "    gotcha['source'] = datums[source_idx].get_text().strip()\n",
    "    \n",
    "    ideas.append(gotcha)\n",
    "    \n",
    "    if idx != len(idea_ids_desired) - 1:\n",
    "        sleepy_time = random.uniform(0, 0.5)\n",
    "        if idx % 10 == 0:\n",
    "            print(idx)\n",
    "#             print(sleepy_time)\n",
    "        time.sleep(sleepy_time)"
   ]
  },
  {
   "cell_type": "code",
   "execution_count": 16,
   "metadata": {},
   "outputs": [
    {
     "data": {
      "text/plain": [
       "(660, 0)"
      ]
     },
     "execution_count": 16,
     "metadata": {},
     "output_type": "execute_result"
    }
   ],
   "source": [
    "len(ideas), len(invalid_idea_ids)"
   ]
  },
  {
   "cell_type": "code",
   "execution_count": 17,
   "metadata": {},
   "outputs": [],
   "source": [
    "pkl.dump(ideas, open(f\"./ideas_{domain.replace(' ', '_')}.pickle\", 'wb'))\n",
    "# pkl.dump(ideas, open(\"ideas_truth_idx_0_to_299.pickle\", \"wb\" ))"
   ]
  },
  {
   "cell_type": "code",
   "execution_count": 18,
   "metadata": {},
   "outputs": [],
   "source": [
    "ideas_load = pkl.load(open(f\"./ideas_{domain.replace(' ', '_')}.pickle\", 'rb'))"
   ]
  },
  {
   "cell_type": "code",
   "execution_count": 21,
   "metadata": {},
   "outputs": [
    {
     "data": {
      "text/plain": [
       "{'gist': 'We can know by demonstration, which is a scientific deduction leading to understanding',\n",
       " 'full_idea': \"We know things through demonstration, by which I mean a scientific deduction, and by 'scientific' I mean a deduction by possessing which we understand something.\",\n",
       " 'source': 'Aristotle (Posterior Analytics [c.327 BCE],  71b17)'}"
      ]
     },
     "execution_count": 21,
     "metadata": {},
     "output_type": "execute_result"
    }
   ],
   "source": [
    "ideas_load[10]"
   ]
  },
  {
   "cell_type": "code",
   "execution_count": 42,
   "metadata": {},
   "outputs": [],
   "source": [
    "ideas_load1 = pkl.load(open(\"ideas_truth_idx_0_to_299.pickle\", \"rb\"))\n",
    "ideas_load2 = pkl.load(open(\"ideas_truth_idx_300_to_end.pickle\", \"rb\"))"
   ]
  },
  {
   "cell_type": "code",
   "execution_count": 43,
   "metadata": {},
   "outputs": [],
   "source": [
    "ideas_load1.extend(ideas_load2)"
   ]
  },
  {
   "cell_type": "code",
   "execution_count": 44,
   "metadata": {},
   "outputs": [
    {
     "data": {
      "text/plain": [
       "588"
      ]
     },
     "execution_count": 44,
     "metadata": {},
     "output_type": "execute_result"
    }
   ],
   "source": [
    "len(ideas_load1)"
   ]
  },
  {
   "cell_type": "code",
   "execution_count": 45,
   "metadata": {},
   "outputs": [],
   "source": [
    "domain2 = '3. Truth'\n",
    "pkl.dump(ideas_load1, open(f\"./ideas_{domain2.replace(' ', '_')}.pickle\", 'wb'))"
   ]
  },
  {
   "cell_type": "code",
   "execution_count": 27,
   "metadata": {},
   "outputs": [],
   "source": [
    "ideas_load = pkl.load(open(f\"./ideas_{domain2.replace(' ', '_')}.pickle\", 'rb'))"
   ]
  },
  {
   "cell_type": "code",
   "execution_count": 31,
   "metadata": {},
   "outputs": [
    {
     "data": {
      "text/plain": [
       "{'gist': \"Minimal theories of truth avoid ontological commitment to such things as 'facts' or 'reality'\",\n",
       " 'full_idea': \"Minimalist theories of truth are those which involve minimum ontological commitment, avoiding references to 'reality' or 'facts' or 'what works', preferring to refer to formal relationships within language.\",\n",
       " 'source': 'PG (Db (ideas) [2031])'}"
      ]
     },
     "execution_count": 31,
     "metadata": {},
     "output_type": "execute_result"
    }
   ],
   "source": [
    "ideas_load[-1]"
   ]
  },
  {
   "cell_type": "code",
   "execution_count": 34,
   "metadata": {},
   "outputs": [
    {
     "data": {
      "text/plain": [
       "\"Minimal theories of truth avoid ontological commitment to such things as 'facts' or 'reality'\""
      ]
     },
     "execution_count": 34,
     "metadata": {},
     "output_type": "execute_result"
    }
   ],
   "source": [
    "ideas_load[-1]['gist']"
   ]
  },
  {
   "cell_type": "code",
   "execution_count": 37,
   "metadata": {},
   "outputs": [
    {
     "data": {
      "text/plain": [
       "list"
      ]
     },
     "execution_count": 37,
     "metadata": {},
     "output_type": "execute_result"
    }
   ],
   "source": [
    "type(ideas_load)"
   ]
  },
  {
   "cell_type": "markdown",
   "metadata": {},
   "source": [
    "## Print philosophical ideas to submit to model\n",
    "***Domain strings match an element in domains list printed above***"
   ]
  },
  {
   "cell_type": "code",
   "execution_count": 46,
   "metadata": {},
   "outputs": [],
   "source": [
    "domains = ('3._Truth', '14._Science')\n",
    "key_for_print = 'gist'"
   ]
  },
  {
   "cell_type": "code",
   "execution_count": 48,
   "metadata": {},
   "outputs": [],
   "source": [
    "with open('./ideas_submit2Model.txt', 'w') as f:\n",
    "    for idx, domain in enumerate(domains):\n",
    "#         with open(f\"./ideas_{domain.replace(' ', '_')}.pickle\", 'rb') as ideas:\n",
    "        ideas = pkl.load(open(f\"./ideas_{domain.replace(' ', '_')}.pickle\", 'rb'))\n",
    "        for idea in ideas[:-1]:\n",
    "            f.write('%s\\n' % idea[key_for_print])\n",
    "        if idx == len(domains) - 1:\n",
    "            f.write('%s' % ideas[-1][key_for_print])\n",
    "        else:\n",
    "            f.write('%s\\n' % ideas[-1][key_for_print])"
   ]
  },
  {
   "cell_type": "markdown",
   "metadata": {},
   "source": [
    "## Test some of the generated stuff"
   ]
  },
  {
   "cell_type": "code",
   "execution_count": 56,
   "metadata": {},
   "outputs": [],
   "source": [
    "does_this_exist = 'combined to specify the same thing'\n",
    "does_this_exist = 'predicate is expressive of the truth predicate'"
   ]
  },
  {
   "cell_type": "code",
   "execution_count": 57,
   "metadata": {},
   "outputs": [],
   "source": [
    "ideas_key = [idea[key_for_print] for idea in ideas]"
   ]
  },
  {
   "cell_type": "code",
   "execution_count": 60,
   "metadata": {},
   "outputs": [],
   "source": [
    "for idea in ideas_key:\n",
    "    if does_this_exist in idea:\n",
    "        print(idea)"
   ]
  },
  {
   "cell_type": "code",
   "execution_count": 61,
   "metadata": {},
   "outputs": [
    {
     "data": {
      "text/plain": [
       "'predicate is expressive of the truth predicate'"
      ]
     },
     "execution_count": 61,
     "metadata": {},
     "output_type": "execute_result"
    }
   ],
   "source": [
    "does_this_exist"
   ]
  },
  {
   "cell_type": "markdown",
   "metadata": {},
   "source": [
    "Do a more comprehensive study of the similarity of generated to actual ideas"
   ]
  }
 ],
 "metadata": {
  "kernelspec": {
   "display_name": "Python 3",
   "language": "python",
   "name": "python3"
  },
  "language_info": {
   "codemirror_mode": {
    "name": "ipython",
    "version": 3
   },
   "file_extension": ".py",
   "mimetype": "text/x-python",
   "name": "python",
   "nbconvert_exporter": "python",
   "pygments_lexer": "ipython3",
   "version": "3.6.10"
  }
 },
 "nbformat": 4,
 "nbformat_minor": 2
}
