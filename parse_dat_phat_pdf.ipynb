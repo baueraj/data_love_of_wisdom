{
 "cells": [
  {
   "cell_type": "code",
   "execution_count": 57,
   "metadata": {},
   "outputs": [],
   "source": [
    "%reload_ext autoreload\n",
    "%autoreload 2\n",
    "\n",
    "from funcs_scrape_pdf import *\n",
    "import pprint\n",
    "pp = pprint.PrettyPrinter()"
   ]
  },
  {
   "cell_type": "markdown",
   "metadata": {},
   "source": [
    "## List of philosophical domains"
   ]
  },
  {
   "cell_type": "code",
   "execution_count": 55,
   "metadata": {},
   "outputs": [
    {
     "name": "stdout",
     "output_type": "stream",
     "text": [
      "['1. Philosophy',\n",
      " '2. Reason',\n",
      " '3. Truth',\n",
      " '4. Formal Logic',\n",
      " '5. Theory of Logic',\n",
      " '6. Mathematics',\n",
      " '7. Existence',\n",
      " '8. Modes of Existence',\n",
      " '9. Objects',\n",
      " '10. Modality',\n",
      " '11. Knowledge Aims',\n",
      " '12. Knowledge Sources',\n",
      " '13. Knowledge Criteria',\n",
      " '14. Science',\n",
      " '15. Nature of Minds',\n",
      " '16. Persons',\n",
      " '17. Mind and Body',\n",
      " '18. Thought',\n",
      " '19. Language',\n",
      " '20. Action',\n",
      " '21. Aesthetics',\n",
      " '22. Metaethics',\n",
      " '23. Ethics',\n",
      " '24. Applied Ethics',\n",
      " '25. Society',\n",
      " '26. Natural Theory',\n",
      " '27. Natural Reality',\n",
      " '28. God',\n",
      " '29. Religion']\n"
     ]
    }
   ],
   "source": [
    "url_domains = 'http://philosophyideas.com/search/themes.asp'\n",
    "domains = get_philosophical_domains(url_domains)\n",
    "pp.pprint(domains)"
   ]
  },
  {
   "cell_type": "markdown",
   "metadata": {},
   "source": [
    "## Write philosophical domain idea IDs\n",
    "***Domain strings match an element in domains list printed above***"
   ]
  },
  {
   "cell_type": "code",
   "execution_count": 54,
   "metadata": {},
   "outputs": [],
   "source": [
    "index_all_ideas_path = 'index_of_all_ideas.pdf'\n",
    "index_all_ideas_lines = get_index_all_ideas_lines(index_all_ideas_path)"
   ]
  },
  {
   "cell_type": "code",
   "execution_count": 59,
   "metadata": {},
   "outputs": [],
   "source": [
    "domain = '3. Truth'\n",
    "write_domain_idea_ids(domain, domains, index_all_ideas_lines)"
   ]
  },
  {
   "cell_type": "code",
   "execution_count": 60,
   "metadata": {},
   "outputs": [],
   "source": [
    "domain = '14. Science'\n",
    "write_domain_idea_ids(domain, domains, index_all_ideas_lines)"
   ]
  }
 ],
 "metadata": {
  "kernelspec": {
   "display_name": "Python 3",
   "language": "python",
   "name": "python3"
  },
  "language_info": {
   "codemirror_mode": {
    "name": "ipython",
    "version": 3
   },
   "file_extension": ".py",
   "mimetype": "text/x-python",
   "name": "python",
   "nbconvert_exporter": "python",
   "pygments_lexer": "ipython3",
   "version": "3.6.10"
  }
 },
 "nbformat": 4,
 "nbformat_minor": 2
}
