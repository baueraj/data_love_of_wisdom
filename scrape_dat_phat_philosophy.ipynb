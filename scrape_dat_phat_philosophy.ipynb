{
 "cells": [
  {
   "cell_type": "code",
   "execution_count": 1,
   "metadata": {},
   "outputs": [],
   "source": [
    "%reload_ext autoreload\n",
    "%autoreload 2\n",
    "\n",
    "from bs4 import BeautifulSoup\n",
    "import requests\n",
    "import time\n",
    "import random\n",
    "import pickle as pkl\n",
    "from funcs_proxy import *\n",
    "from funcs_scrape_pdf import *\n",
    "import pprint\n",
    "pp = pprint.PrettyPrinter()"
   ]
  },
  {
   "cell_type": "markdown",
   "metadata": {},
   "source": [
    "## Proxy info"
   ]
  },
  {
   "cell_type": "code",
   "execution_count": 2,
   "metadata": {},
   "outputs": [],
   "source": [
    "url_proxy = 'https://free-proxy-list.net/'\n",
    "timeout = 20\n",
    "proxies_n = 15\n",
    "proxies = get_proxies(url_proxy, proxies_n)"
   ]
  },
  {
   "cell_type": "code",
   "execution_count": 4,
   "metadata": {},
   "outputs": [],
   "source": [
    "# proxies\n",
    "# response = requests.get(url_proxy, proxies={\"http\": proxies[2], \"https\": proxies[2]}) #, timeout=timeout"
   ]
  },
  {
   "cell_type": "markdown",
   "metadata": {},
   "source": [
    "## List of philosophical domains"
   ]
  },
  {
   "cell_type": "code",
   "execution_count": 3,
   "metadata": {},
   "outputs": [
    {
     "name": "stdout",
     "output_type": "stream",
     "text": [
      "['1. Philosophy',\n",
      " '2. Reason',\n",
      " '3. Truth',\n",
      " '4. Formal Logic',\n",
      " '5. Theory of Logic',\n",
      " '6. Mathematics',\n",
      " '7. Existence',\n",
      " '8. Modes of Existence',\n",
      " '9. Objects',\n",
      " '10. Modality',\n",
      " '11. Knowledge Aims',\n",
      " '12. Knowledge Sources',\n",
      " '13. Knowledge Criteria',\n",
      " '14. Science',\n",
      " '15. Nature of Minds',\n",
      " '16. Persons',\n",
      " '17. Mind and Body',\n",
      " '18. Thought',\n",
      " '19. Language',\n",
      " '20. Action',\n",
      " '21. Aesthetics',\n",
      " '22. Metaethics',\n",
      " '23. Ethics',\n",
      " '24. Applied Ethics',\n",
      " '25. Society',\n",
      " '26. Natural Theory',\n",
      " '27. Natural Reality',\n",
      " '28. God',\n",
      " '29. Religion']\n"
     ]
    }
   ],
   "source": [
    "url_domains = 'http://philosophyideas.com/search/themes.asp'\n",
    "domains = get_philosophical_domains(url_domains)\n",
    "pp.pprint(domains)"
   ]
  },
  {
   "cell_type": "markdown",
   "metadata": {},
   "source": [
    "## Get philosophical domain ideas\n",
    "***Domain strings match an element in domains list printed above***"
   ]
  },
  {
   "cell_type": "markdown",
   "metadata": {},
   "source": [
    "## Truth"
   ]
  },
  {
   "cell_type": "code",
   "execution_count": 20,
   "metadata": {},
   "outputs": [],
   "source": [
    "domain_name = 'truth'\n",
    "idea_ids_desired = [id.strip() for id in open(f'./idea_ids_{domain_name}.txt')]\n",
    "ideas = []\n",
    "invalid_idea_ids = []"
   ]
  },
  {
   "cell_type": "code",
   "execution_count": 22,
   "metadata": {},
   "outputs": [
    {
     "name": "stdout",
     "output_type": "stream",
     "text": [
      "0\n",
      "10\n",
      "20\n",
      "30\n",
      "40\n",
      "50\n",
      "60\n",
      "70\n",
      "80\n",
      "90\n",
      "100\n",
      "110\n",
      "120\n",
      "130\n",
      "140\n",
      "150\n",
      "160\n",
      "170\n",
      "180\n",
      "190\n",
      "200\n",
      "210\n",
      "220\n",
      "230\n",
      "240\n",
      "250\n",
      "260\n",
      "270\n",
      "280\n"
     ]
    }
   ],
   "source": [
    "for idx, id in enumerate(idea_ids_desired[300:]):\n",
    "    \n",
    "    url_phil = f'http://philosophyideas.com/search/idea_detail.asp?find=theme&themenumber=2015&visit=1&return=yes&ID={id}&gistsfor=theme&theme_alpha=yes&ThemeNumber=&area=&source=single&area_no='\n",
    "    \n",
    "    r = requests.get(url_phil)\n",
    "#     if idx < 5:\n",
    "#         r = requests.get(url_phil)\n",
    "#     elif idx % 50 == 0:\n",
    "#         proxy = get_proxy(url_proxy, proxies, timeout)\n",
    "#         r = requests.get(url_phil, proxies=proxy)\n",
    "#         print(proxy)\n",
    "#     else:\n",
    "#         r = requests.get(url_phil, proxies=proxy)\n",
    "    \n",
    "    soup = BeautifulSoup(r.content, 'html5lib') \n",
    "    table = soup.find('div', attrs = {'class': 'txt'})\n",
    "    \n",
    "    headers = table.find_all_next('p', attrs = {'class': 'para2'})\n",
    "    \n",
    "    if len(headers) == 0:\n",
    "        invalid_idea_ids.append(id)\n",
    "        print(id)\n",
    "        continue\n",
    "        \n",
    "    headers = [header.get_text().strip() for header in headers]\n",
    "    gist_idx = headers.index('Gist of Idea')\n",
    "    full_idea_idx = headers.index('Full Idea')\n",
    "    source_idx = headers.index('Source')\n",
    "    \n",
    "    datums = table.find_all_next('p', attrs = {'class': 'text'})\n",
    "    \n",
    "    gotcha = {}\n",
    "    gotcha['gist'] = datums[gist_idx].get_text().strip()\n",
    "    gotcha['full_idea'] = datums[full_idea_idx].get_text().strip()\n",
    "    gotcha['source'] = datums[source_idx].get_text().strip()\n",
    "    \n",
    "    ideas.append(gotcha)\n",
    "    \n",
    "    if idx != len(idea_ids_desired) - 1:\n",
    "        sleepy_time = random.uniform(0, 0.5)\n",
    "        if idx % 10 == 0:\n",
    "            print(idx)\n",
    "#             print(sleepy_time)\n",
    "        time.sleep(sleepy_time)"
   ]
  },
  {
   "cell_type": "code",
   "execution_count": 23,
   "metadata": {},
   "outputs": [
    {
     "data": {
      "text/plain": [
       "(288, 0)"
      ]
     },
     "execution_count": 23,
     "metadata": {},
     "output_type": "execute_result"
    }
   ],
   "source": [
    "len(ideas), len(invalid_idea_ids)"
   ]
  },
  {
   "cell_type": "code",
   "execution_count": 25,
   "metadata": {},
   "outputs": [],
   "source": [
    "# pkl.dump(ideas, open(\"ideas_truth_idx_300_to_end.pickle\", \"wb\" ))\n",
    "# pkl.dump(ideas, open(\"ideas_truth_idx_0_to_299.pickle\", \"wb\" ))"
   ]
  },
  {
   "cell_type": "code",
   "execution_count": 15,
   "metadata": {},
   "outputs": [],
   "source": [
    "ideas_load = pkl.load(open(\"ideas_truth_idx_0_to_299.pickle\", \"rb\"))\n",
    "ideas_load = pkl.load(open(\"ideas_truth_idx_300_to_end.pickle\", \"rb\"))"
   ]
  }
 ],
 "metadata": {
  "kernelspec": {
   "display_name": "Python 3",
   "language": "python",
   "name": "python3"
  },
  "language_info": {
   "codemirror_mode": {
    "name": "ipython",
    "version": 3
   },
   "file_extension": ".py",
   "mimetype": "text/x-python",
   "name": "python",
   "nbconvert_exporter": "python",
   "pygments_lexer": "ipython3",
   "version": "3.6.10"
  }
 },
 "nbformat": 4,
 "nbformat_minor": 2
}
