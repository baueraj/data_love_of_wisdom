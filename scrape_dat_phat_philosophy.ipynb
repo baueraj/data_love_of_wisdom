{
 "cells": [
  {
   "cell_type": "code",
   "execution_count": 1,
   "metadata": {},
   "outputs": [],
   "source": [
    "%reload_ext autoreload\n",
    "%autoreload 2\n",
    "\n",
    "from bs4 import BeautifulSoup\n",
    "import requests\n",
    "import time\n",
    "import random\n",
    "from funcs_proxy import *"
   ]
  },
  {
   "cell_type": "markdown",
   "metadata": {},
   "source": [
    "## Proxy info"
   ]
  },
  {
   "cell_type": "code",
   "execution_count": 8,
   "metadata": {},
   "outputs": [],
   "source": [
    "url_proxy = 'https://free-proxy-list.net/'\n",
    "timeout = 20\n",
    "proxies_n = 15\n",
    "proxies = get_proxies(url_proxy, proxies_n)"
   ]
  },
  {
   "cell_type": "code",
   "execution_count": 6,
   "metadata": {},
   "outputs": [],
   "source": [
    "# proxies"
   ]
  },
  {
   "cell_type": "code",
   "execution_count": 7,
   "metadata": {},
   "outputs": [],
   "source": [
    "# response = requests.get(url_proxy, proxies={\"http\": proxies[2], \"https\": proxies[2]}) #, timeout=timeout"
   ]
  },
  {
   "cell_type": "markdown",
   "metadata": {},
   "source": [
    "## Truth"
   ]
  },
  {
   "cell_type": "code",
   "execution_count": 5,
   "metadata": {},
   "outputs": [],
   "source": [
    "domain_name = 'truth'\n",
    "idea_ids_desired = [id.strip() for id in open(f'./idea_ids_{domain_name}.txt')]\n",
    "invalid_idea_ids = []\n",
    "ideas = []"
   ]
  },
  {
   "cell_type": "code",
   "execution_count": 9,
   "metadata": {},
   "outputs": [
    {
     "name": "stdout",
     "output_type": "stream",
     "text": [
      "0\n",
      "0.5415131250051373\n",
      "1\n",
      "1.641468357197115\n",
      "2\n",
      "0.9089839723795321\n",
      "3\n",
      "0.5996885440941155\n"
     ]
    },
    {
     "ename": "KeyboardInterrupt",
     "evalue": "",
     "output_type": "error",
     "traceback": [
      "\u001b[0;31m---------------------------------------------------------------------------\u001b[0m",
      "\u001b[0;31mKeyboardInterrupt\u001b[0m                         Traceback (most recent call last)",
      "\u001b[0;32m<ipython-input-9-eb6e562c219f>\u001b[0m in \u001b[0;36m<module>\u001b[0;34m()\u001b[0m\n\u001b[1;32m     35\u001b[0m         \u001b[0msleepy_time\u001b[0m \u001b[0;34m=\u001b[0m \u001b[0mrandom\u001b[0m\u001b[0;34m.\u001b[0m\u001b[0muniform\u001b[0m\u001b[0;34m(\u001b[0m\u001b[0;36m0\u001b[0m\u001b[0;34m,\u001b[0m \u001b[0;36m2\u001b[0m\u001b[0;34m)\u001b[0m\u001b[0;34m\u001b[0m\u001b[0m\n\u001b[1;32m     36\u001b[0m         \u001b[0mprint\u001b[0m\u001b[0;34m(\u001b[0m\u001b[0msleepy_time\u001b[0m\u001b[0;34m)\u001b[0m\u001b[0;34m\u001b[0m\u001b[0m\n\u001b[0;32m---> 37\u001b[0;31m         \u001b[0mtime\u001b[0m\u001b[0;34m.\u001b[0m\u001b[0msleep\u001b[0m\u001b[0;34m(\u001b[0m\u001b[0msleepy_time\u001b[0m\u001b[0;34m)\u001b[0m\u001b[0;34m\u001b[0m\u001b[0m\n\u001b[0m",
      "\u001b[0;31mKeyboardInterrupt\u001b[0m: "
     ]
    }
   ],
   "source": [
    "for idx, id in enumerate(idea_ids_desired):\n",
    "    print(idx)\n",
    "    \n",
    "    url_phil = f'http://philosophyideas.com/search/idea_detail.asp?find=theme&themenumber=2015&visit=1&return=yes&ID={id}&gistsfor=theme&theme_alpha=yes&ThemeNumber=&area=&source=single&area_no='\n",
    "    \n",
    "    if idx < 5:\n",
    "        r = requests.get(url_phil)\n",
    "    elif idx % 50 == 0:\n",
    "        proxy = get_proxy(url_proxy, proxies, timeout)\n",
    "        r = requests.get(url_phil, proxies=proxy)\n",
    "        print(proxy)\n",
    "    else:\n",
    "        r = requests.get(url_phil, proxies=proxy)\n",
    "    \n",
    "    soup = BeautifulSoup(r.content, 'html5lib') \n",
    "    table = soup.find('div', attrs = {'class': 'txt'})\n",
    "    \n",
    "    headers = table.find_all_next('p', attrs = {'class': 'para2'})\n",
    "    \n",
    "    if len(headers) == 0:\n",
    "        invalid_idea_ids.append(id)\n",
    "        continue\n",
    "        \n",
    "    headers = [header.get_text().strip() for header in headers]\n",
    "    gist_idx = headers.index('Gist of Idea')\n",
    "    datums = table.find_all_next('p', attrs = {'class': 'text'})\n",
    "    \n",
    "    gotcha = {}\n",
    "    gotcha['gist'] = datums[gist_idx].get_text().strip()\n",
    "    \n",
    "    ideas.append(gotcha)\n",
    "    \n",
    "    if idx != len(idea_ids_desired) - 1:\n",
    "#         sleepy_time = random.randrange(2)\n",
    "        sleepy_time = random.uniform(0, 2)\n",
    "        if idx % 10 == 0:\n",
    "            print(sleepy_time)\n",
    "        time.sleep(sleepy_time)"
   ]
  },
  {
   "cell_type": "code",
   "execution_count": 13,
   "metadata": {},
   "outputs": [
    {
     "data": {
      "text/plain": [
       "[{'gist': 'Truth is a matter of asserting correct combinations and separations'},\n",
       " {'gist': 'Simple and essential truth seems to be given, with further truth arising in thinking'},\n",
       " {'gist': 'Truth is either intuiting a way of being, or a putting together'},\n",
       " {'gist': 'The concept of truth was originated by the senses'}]"
      ]
     },
     "execution_count": 13,
     "metadata": {},
     "output_type": "execute_result"
    }
   ],
   "source": [
    "ideas"
   ]
  },
  {
   "cell_type": "code",
   "execution_count": 11,
   "metadata": {},
   "outputs": [
    {
     "data": {
      "text/plain": [
       "4"
      ]
     },
     "execution_count": 11,
     "metadata": {},
     "output_type": "execute_result"
    }
   ],
   "source": [
    "len(ideas)"
   ]
  },
  {
   "cell_type": "code",
   "execution_count": 12,
   "metadata": {},
   "outputs": [
    {
     "data": {
      "text/plain": [
       "[]"
      ]
     },
     "execution_count": 12,
     "metadata": {},
     "output_type": "execute_result"
    }
   ],
   "source": [
    "invalid_idea_ids"
   ]
  }
 ],
 "metadata": {
  "kernelspec": {
   "display_name": "Python 3",
   "language": "python",
   "name": "python3"
  },
  "language_info": {
   "codemirror_mode": {
    "name": "ipython",
    "version": 3
   },
   "file_extension": ".py",
   "mimetype": "text/x-python",
   "name": "python",
   "nbconvert_exporter": "python",
   "pygments_lexer": "ipython3",
   "version": "3.6.3"
  }
 },
 "nbformat": 4,
 "nbformat_minor": 2
}
